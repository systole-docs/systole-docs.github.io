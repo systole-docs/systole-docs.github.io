{
  "cells": [
    {
      "cell_type": "code",
      "execution_count": null,
      "metadata": {
        "collapsed": false
      },
      "outputs": [],
      "source": [
        "%matplotlib inline"
      ]
    },
    {
      "cell_type": "markdown",
      "metadata": {},
      "source": [
        "\nRecording PPG signal\n====================\n"
      ]
    },
    {
      "cell_type": "code",
      "execution_count": null,
      "metadata": {
        "collapsed": false
      },
      "outputs": [],
      "source": [
        "# Author: Nicolas Legrand <nicolas.legrand@cfin.au.dk>\n# Licence: GPL v3\n\n# The py:class:systole.recording.Oximeter class can be used to read incoming\n# PPG signal from `Nonin 3012LP Xpod USB pulse oximeter\n# <https://www.nonin.com/products/xpod/>`_ together with the `Nonin 8000SM\n# 'soft-clip' fingertip sensors <https://www.nonin.com/products/8000s/>`_.\n# This function can easily be integrated with other stimulus presentation\n# software lie `PsychoPy <https://www.psychopy.org/>`_ to record cardiac\n# activity during psychological experiments, or to synchronize stimulus\n# delivery with cardiac phases (e.g. systole or diastole)."
      ]
    },
    {
      "cell_type": "markdown",
      "metadata": {},
      "source": [
        "Reading\n-------\nRecording and plotting your first time-series will only require 5 lines\nof code:\n\n"
      ]
    },
    {
      "cell_type": "code",
      "execution_count": null,
      "metadata": {
        "collapsed": false
      },
      "outputs": [],
      "source": [
        "import serial\nfrom systole.recording import Oximeter\nser = serial.Serial('COM4')  # Add your USB port here\n\n# Open serial port, initialize and plot recording for Oximeter\noxi = Oximeter(serial=ser).setup().read(duration=10)\n\n# The signal can be directly plotted using built-in functions.\noxi.plot_oximeter()"
      ]
    },
    {
      "cell_type": "markdown",
      "metadata": {},
      "source": [
        ".. figure::  https://github.com/embodied-computation-group/systole/raw/master/Images/recording.png\n    :align:   center\n#############################################################################\n\n"
      ]
    },
    {
      "cell_type": "markdown",
      "metadata": {},
      "source": [
        "Interfacing with PsychoPy\n-------------------------\n\n"
      ]
    },
    {
      "cell_type": "code",
      "execution_count": null,
      "metadata": {
        "collapsed": false
      },
      "outputs": [],
      "source": [
        "# * The ``read()`` method will record for a predefined amount of time\n# (specified by the ``duration`` parameter, in seconds). This 'serial mode'\n# is the easiest and most robust method, but it does not allow the execution\n# of other instructions in the meantime.\n\n# Code 1 {}\noximeter.read(duration=10)\n# Code 2 {}\n\n# * The ``readInWaiting()`` method will only read the bytes temporally stored\n# in the USB buffer. For the Nonin device, this represents up to 10 seconds of\n# recording (this procedure should be executed at least one time every 10\n# seconds for a continuous recording). When inserted into a while loop, it can\n# record PPG signal in parallel with other commands.\n\nimport time\ntstart = time.time()\nwhile time.time() - tstart < 10:\n    oximeter.readInWaiting()\n    # Insert code here {...}"
      ]
    },
    {
      "cell_type": "markdown",
      "metadata": {},
      "source": [
        "Online detection\n----------------\nOnline heart beat detection, for cardiac-stimulus synchrony\n\n"
      ]
    },
    {
      "cell_type": "code",
      "execution_count": null,
      "metadata": {
        "collapsed": false
      },
      "outputs": [],
      "source": [
        "import serial\nimport time\nfrom systole.recording import Oximeter\n\n# Open serial port\nser = serial.Serial('COM4')  # Change this value according to your setup\n\n# Create an Oxymeter instance and initialize recording\noxi = Oximeter(serial=ser, sfreq=75, add_channels=4).setup()\n\n# Online peak detection for 10 seconds\ntstart = time.time()\nwhile time.time() - tstart < 10:\n    while oxi.serial.inWaiting() >= 5:\n        paquet = list(oxi.serial.read(5))\n        oxi.add_paquet(paquet[2])  # Add new data point\n        if oxi.peaks[-1] == 1:\n            print('Heartbeat detected')"
      ]
    }
  ],
  "metadata": {
    "kernelspec": {
      "display_name": "Python 3",
      "language": "python",
      "name": "python3"
    },
    "language_info": {
      "codemirror_mode": {
        "name": "ipython",
        "version": 3
      },
      "file_extension": ".py",
      "mimetype": "text/x-python",
      "name": "python",
      "nbconvert_exporter": "python",
      "pygments_lexer": "ipython3",
      "version": "3.7.6"
    }
  },
  "nbformat": 4,
  "nbformat_minor": 0
}