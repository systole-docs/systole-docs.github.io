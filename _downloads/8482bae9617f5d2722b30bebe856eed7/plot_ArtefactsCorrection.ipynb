{
  "cells": [
    {
      "cell_type": "code",
      "execution_count": null,
      "metadata": {
        "collapsed": false
      },
      "outputs": [],
      "source": [
        "%matplotlib inline"
      ]
    },
    {
      "cell_type": "markdown",
      "metadata": {},
      "source": [
        "\n# Outliers and ectobeats correction\n\nHere, we describe two method for artefacts and outliers correction, after\ndetection using the method proposed by Lipponen & Tarvainen (2019) [1]_.\n"
      ]
    },
    {
      "cell_type": "code",
      "execution_count": null,
      "metadata": {
        "collapsed": false
      },
      "outputs": [],
      "source": [
        "# Author: Nicolas Legrand <nicolas.legrand@cfin.au.dk>\n# Licence: GPL v3\n\n# This example describe two approaches for RR artefacts correction:\n# * `correct_rr()` will find and correct artefacts in the RR time series. The\n# signal length will possibly change after the interpolation of long, short or\n# ectopic beats. This method is more relevant for HRV analyse of long recording\n# where the timing of experimental events is not important.\n# * `correct_peaks()` will find and correct artefacts in a boolean peaks\n# vector, thus ensuring the length of recording remain constant and corrected\n# peaks fit the signal sampling rate. This method is more adapted to\n# event-related cardiac activity designs."
      ]
    },
    {
      "cell_type": "code",
      "execution_count": null,
      "metadata": {
        "collapsed": false
      },
      "outputs": [],
      "source": [
        "import numpy as np\nfrom systole import import_dataset1\nfrom systole.detection import ecg_peaks\nfrom systole.correction import correct_peaks, correct_rr\nfrom systole.utils import input_conversion\nfrom systole.plots import plot_rr\nfrom bokeh.io import output_notebook\nfrom bokeh.plotting import show\noutput_notebook()"
      ]
    },
    {
      "cell_type": "code",
      "execution_count": null,
      "metadata": {
        "collapsed": false
      },
      "outputs": [],
      "source": [
        "ecg_df = import_dataset1(modalities=['ECG', 'Stim'])"
      ]
    },
    {
      "cell_type": "code",
      "execution_count": null,
      "metadata": {
        "collapsed": false
      },
      "outputs": [],
      "source": [
        "signal, peaks = ecg_peaks(ecg_df.ecg, method='pan-tompkins', sfreq=1000)"
      ]
    },
    {
      "cell_type": "markdown",
      "metadata": {},
      "source": [
        "#############################\nLet's first convert the R peaks previously detected to RR intervals.\n\nimport an example time series of RR interval. Here, `rr` is simplys a 1d Numpy array of intervals expressed in miliseconds (ms).\n\n"
      ]
    },
    {
      "cell_type": "code",
      "execution_count": null,
      "metadata": {
        "collapsed": false
      },
      "outputs": [],
      "source": [
        "rr_ms = input_conversion(peaks, input_type=\"peaks\", output_type=\"rr_ms\")"
      ]
    },
    {
      "cell_type": "markdown",
      "metadata": {},
      "source": [
        "We can visualize this series using Systole's built in `plot_rr` function. Here we are using Bokeh as plotting backend.\n\n"
      ]
    },
    {
      "cell_type": "code",
      "execution_count": null,
      "metadata": {
        "collapsed": false
      },
      "outputs": [],
      "source": [
        "show(\n    plot_rr(rr_ms, input_type='rr_ms', backend='bokeh', figsize=300)\n)"
      ]
    },
    {
      "cell_type": "markdown",
      "metadata": {},
      "source": [
        "#############################\n\n"
      ]
    },
    {
      "cell_type": "code",
      "execution_count": null,
      "metadata": {
        "collapsed": false
      },
      "outputs": [],
      "source": [
        "rr_correction = correct_rr(rr_ms)"
      ]
    },
    {
      "cell_type": "markdown",
      "metadata": {},
      "source": [
        "#############################\n\n"
      ]
    },
    {
      "cell_type": "markdown",
      "metadata": {},
      "source": [
        "Here, we are going to add false extra and missed peaks (by adding and removing ones in the peaks vector).\n\n"
      ]
    },
    {
      "cell_type": "code",
      "execution_count": null,
      "metadata": {
        "collapsed": false
      },
      "outputs": [],
      "source": [
        "corrupted_peaks = peaks\n\nnp.random.seed(123)\n# Create 100 missed peaks\ncorrupted_peaks[\n    np.random.choice(np.where(corrupted_peaks)[0], 50)\n    ] = 0\n\n# Create 100 extra peaks\ncorrupted_peaks[\n    np.random.choice(len(peaks), 50)\n    ] = 1"
      ]
    },
    {
      "cell_type": "markdown",
      "metadata": {},
      "source": [
        "We can visualize the corrupted vector (this time setting `show_artefacts` to `True`).\n\n"
      ]
    },
    {
      "cell_type": "code",
      "execution_count": null,
      "metadata": {
        "collapsed": false
      },
      "outputs": [],
      "source": [
        "show(\n    plot_rr(\n        corrupted_peaks, input_type='peaks', backend='bokeh', figsize=300,\n        show_artefacts=True)\n)"
      ]
    },
    {
      "cell_type": "markdown",
      "metadata": {},
      "source": [
        "We can see that this procedure has successfully created 50 extra and 50 missed peaks\nin the signal. We can see that some of the extra peaks are even falling in the red\narea in the plot above. This area cover all values below 200ms and above 3000ms and \nare considered as physiologically unlikely/impossible RR intervals for humans that\nshould be discared automatically most of the time. We will try to correct that using \nSystole's `correct_peaks` function. Contrarily to `correct_rr`, this function operate \nat the peaks detection level and will keep the lenght of the signal constant. This\ncan be especially usefull when we want to look at the evolution of RR interval in\nresponse to specific events.\n\n"
      ]
    },
    {
      "cell_type": "code",
      "execution_count": null,
      "metadata": {
        "collapsed": false
      },
      "outputs": [],
      "source": [
        "peaks_correction = correct_peaks(corrupted_peaks)"
      ]
    },
    {
      "cell_type": "markdown",
      "metadata": {},
      "source": [
        "We can see that the function is doing a good job at detection and correcting peaks.\n47/50 extra and 44/50 missed were corrected here.\n\n"
      ]
    },
    {
      "cell_type": "code",
      "execution_count": null,
      "metadata": {
        "collapsed": false
      },
      "outputs": [],
      "source": [
        "show(\n    plot_rr(\n        peaks_correction[\"clean_peaks\"], input_type='peaks', backend='bokeh', \n        figsize=300, show_artefacts=True)\n)"
      ]
    },
    {
      "cell_type": "markdown",
      "metadata": {},
      "source": [
        "## References\n.. [1] Lipponen, J. A., & Tarvainen, M. P. (2019). A robust algorithm for\n  heart rate variability time series artefact correction using novel\n  beat classification. Journal of Medical Engineering & Technology,\n  43(3), 173\u2013181. https://doi.org/10.1080/03091902.2019.1640306\n\n"
      ]
    }
  ],
  "metadata": {
    "kernelspec": {
      "display_name": "Python 3",
      "language": "python",
      "name": "python3"
    },
    "language_info": {
      "codemirror_mode": {
        "name": "ipython",
        "version": 3
      },
      "file_extension": ".py",
      "mimetype": "text/x-python",
      "name": "python",
      "nbconvert_exporter": "python",
      "pygments_lexer": "ipython3",
      "version": "3.7.9"
    }
  },
  "nbformat": 4,
  "nbformat_minor": 0
}