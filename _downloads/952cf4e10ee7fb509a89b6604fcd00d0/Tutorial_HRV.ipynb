{
  "cells": [
    {
      "cell_type": "code",
      "execution_count": null,
      "metadata": {
        "collapsed": false
      },
      "outputs": [],
      "source": [
        "%matplotlib inline"
      ]
    },
    {
      "cell_type": "markdown",
      "metadata": {},
      "source": [
        "\nSyntaxError\n===========\n\nExample script with invalid Python syntax\n\n"
      ]
    },
    {
      "cell_type": "code",
      "execution_count": null,
      "metadata": {
        "collapsed": false
      },
      "outputs": [],
      "source": [
        "\"\"\"\nRecording\n=========\n\n\n\"\"\"\n\n# Author: Nicolas Legrand <nicolas.legrand@cfin.au.dk>\n# Licence: GPL v3\n\n# It can easily interface with `PsychoPy <https://www.psychopy.org/>`_ to\n# record PPG signal during psychological experiments, and to synchronize\n# stimulus deliver to e.g., systole or diastole.\n\n# For example, you can record and plot data in less than 6 lines of code:"
      ]
    },
    {
      "cell_type": "markdown",
      "metadata": {},
      "source": [
        "Event related cardiac deceleration\n----------------------------------\n\n"
      ]
    },
    {
      "cell_type": "code",
      "execution_count": null,
      "metadata": {
        "collapsed": false
      },
      "outputs": [],
      "source": [
        "import serial\nfrom systole.recording import Oximeter\nser = serial.Serial('COM4')  # Add your USB port here\n\n# Open serial port, initialize and plot recording for Oximeter\noxi = Oximeter(serial=ser).setup().read(duration=10)\n\n\nInterfacing with PsychoPy\n-------------------------\n\nThe ``Oximeter`` class can be used together with a stimulus presentation software to record cardiac activity during psychological experiments.\n\n* The ``read()`` method\n\nwill record for a predefined amount of time (specified by the ``duration`` parameter, in seconds). This 'serial mode' is the easiest and most robust method, but it does not allow the execution of other instructions in the meantime.\n\n.. code-block:: python\n\n  # Code 1 {}\n  oximeter.read(duration=10)\n  # Code 2 {}\n\n* The ``readInWaiting()`` method\n\nwill only read the bytes temporally stored in the USB buffer. For the Nonin device, this represents up to 10 seconds of recording (this procedure should be executed at least one time every 10 seconds for a continuous recording). When inserted into a while loop, it can record PPG signal in parallel with other commands.\n\n.. code-block:: python\n\n  import time\n  tstart = time.time()\n  while time.time() - tstart < 10:\n      oximeter.readInWaiting()\n      # Insert code here {...}"
      ]
    }
  ],
  "metadata": {
    "kernelspec": {
      "display_name": "Python 3",
      "language": "python",
      "name": "python3"
    },
    "language_info": {
      "codemirror_mode": {
        "name": "ipython",
        "version": 3
      },
      "file_extension": ".py",
      "mimetype": "text/x-python",
      "name": "python",
      "nbconvert_exporter": "python",
      "pygments_lexer": "ipython3",
      "version": "3.7.6"
    }
  },
  "nbformat": 4,
  "nbformat_minor": 0
}