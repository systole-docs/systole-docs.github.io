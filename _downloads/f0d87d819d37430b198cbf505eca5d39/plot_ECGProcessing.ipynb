{
  "cells": [
    {
      "cell_type": "code",
      "execution_count": null,
      "metadata": {
        "collapsed": false
      },
      "outputs": [],
      "source": [
        "%matplotlib inline"
      ]
    },
    {
      "cell_type": "markdown",
      "metadata": {},
      "source": [
        "\nECG preprocessing and R wave detection\n======================================\n\nThis notebook describe ECG signal processing, from R wave detection to heart\nrate variability and evoked heart rate activity.\n"
      ]
    },
    {
      "cell_type": "code",
      "execution_count": null,
      "metadata": {
        "collapsed": false
      },
      "outputs": [],
      "source": [
        "# Author: Nicolas Legrand <nicolas.legrand@cfin.au.dk>\n# Licence: GPL v3\n\nimport numpy as np\nimport pandas as pd\nimport matplotlib.pyplot as plt\nimport seaborn as sns\nfrom systole import import_dataset\nfrom systole.detection import ecg_peaks\nfrom systole.utils import heart_rate, to_epochs"
      ]
    },
    {
      "cell_type": "markdown",
      "metadata": {},
      "source": [
        "Loading ECG dataset\n-------------------\n\n"
      ]
    },
    {
      "cell_type": "code",
      "execution_count": null,
      "metadata": {
        "collapsed": false
      },
      "outputs": [],
      "source": [
        "signal_df = import_dataset()"
      ]
    },
    {
      "cell_type": "markdown",
      "metadata": {},
      "source": [
        "Finding R peaks\n---------------\nThe peaks detection algorithms are imported from the py-ecg-detectors module:\nhttps://github.com/berndporr/py-ecg-detectors\n\n"
      ]
    },
    {
      "cell_type": "code",
      "execution_count": null,
      "metadata": {
        "collapsed": false
      },
      "outputs": [],
      "source": [
        "signal, peaks = ecg_peaks(signal_df.ecg, method='hamilton', sfreq=1000,\n                          find_local=True)"
      ]
    },
    {
      "cell_type": "markdown",
      "metadata": {},
      "source": [
        "Heart Rate Variability\n----------------------\n\n"
      ]
    },
    {
      "cell_type": "markdown",
      "metadata": {},
      "source": [
        "Event related cardiac deceleration\n----------------------------------\n\n"
      ]
    },
    {
      "cell_type": "code",
      "execution_count": null,
      "metadata": {
        "collapsed": false
      },
      "outputs": [],
      "source": [
        "# Extract instantaneous heart rate\nheartrate, new_time = heart_rate(peaks, kind='cubic', unit='bpm')\n\n# Downsample the stim events channel\n# to fit with the new sampling frequency (1000 Hz)\nneutral, disgust = np.zeros(len(new_time)), np.zeros(len(new_time))\n\ndisgust[\n    np.round(np.where(signal_df.stim.to_numpy() == 2)[0]).astype(int)] = 1\nneutral[\n    np.round(np.where(signal_df.stim.to_numpy() == 3)[0]).astype(int)] = 1"
      ]
    },
    {
      "cell_type": "markdown",
      "metadata": {},
      "source": [
        "Event related plot\n------------------\n\n"
      ]
    },
    {
      "cell_type": "code",
      "execution_count": null,
      "metadata": {
        "collapsed": false
      },
      "outputs": [],
      "source": [
        "sns.set_context('talk')\nfig, ax = plt.subplots(figsize=(8, 5))\nfor cond, data, col in zip(\n        ['Neutral', 'Disgust'], [neutral, disgust],\n        [sns.xkcd_rgb[\"denim blue\"], sns.xkcd_rgb[\"pale red\"]]):\n\n    # Epoch intantaneous heart rate\n    # and downsample to 2 Hz to save memory\n    epochs = to_epochs(heartrate, data, tmin=0, tmax=11)[:, ::500]\n\n    # Plot\n    df = pd.DataFrame(epochs).melt()\n    df.variable /= 2\n    sns.lineplot(data=df, x='variable', y='value', ci=68, label=cond,\n                 color=col, ax=ax)\n\nax.set_xlim(0, 10)\nax.set_xlabel('Time (s)')\nax.set_ylabel('Heart Rate (BPM)')\nax.set_title('Instantaneous heart rate after neutral and disgusting images')\nsns.despine()\nplt.tight_layout()"
      ]
    },
    {
      "cell_type": "markdown",
      "metadata": {},
      "source": [
        "References\n----------\n.. [#] Porr, B., & Howell, L. (2019). R-peak detector stress test with a new\nnoisy ECG database reveals significant performance differences amongst\npopular detectors. Cold Spring Harbor Laboratory.\nhttps://doi.org/10.1101/722397\n\n"
      ]
    }
  ],
  "metadata": {
    "kernelspec": {
      "display_name": "Python 3",
      "language": "python",
      "name": "python3"
    },
    "language_info": {
      "codemirror_mode": {
        "name": "ipython",
        "version": 3
      },
      "file_extension": ".py",
      "mimetype": "text/x-python",
      "name": "python",
      "nbconvert_exporter": "python",
      "pygments_lexer": "ipython3",
      "version": "3.7.6"
    }
  },
  "nbformat": 4,
  "nbformat_minor": 0
}