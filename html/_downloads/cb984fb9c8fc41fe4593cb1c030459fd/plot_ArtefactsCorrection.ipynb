{
  "cells": [
    {
      "cell_type": "code",
      "execution_count": null,
      "metadata": {
        "collapsed": false
      },
      "outputs": [],
      "source": [
        "%matplotlib inline"
      ]
    },
    {
      "cell_type": "markdown",
      "metadata": {},
      "source": [
        "\nOutliers and ectobeats correction\n=================================\n\nHere, we describe two method for artefacts and outliers correction, after\ndetection using the method proposed by Lipponen & Tarvainen (2019) [#]_.\n"
      ]
    },
    {
      "cell_type": "code",
      "execution_count": null,
      "metadata": {
        "collapsed": false
      },
      "outputs": [],
      "source": [
        "# Author: Nicolas Legrand <nicolas.legrand@cfin.au.dk>\n# Licence: GPL v3\n\n# Two approaches for artefacts correction are proposed:\n# * `correct_peaks()` will find and correct artefacts in a boolean peaks\n# vector, thus ensuring the length of recording remain constant and corrected\n# peaks fit the signal sampling rate. This method is more adapted to\n# event-related cardiac activity designs.\n\n# * `correct_rr()` will find and correct artefacts in the RR time series. The\n# signal length will possibly change after the interpolation of long, short or\n# ectopic beats. This method is more relevant for HRV analyse of long recording\n# where the timing of experimental events is not important."
      ]
    },
    {
      "cell_type": "code",
      "execution_count": null,
      "metadata": {
        "collapsed": false
      },
      "outputs": [],
      "source": [
        "import numpy as np\nimport matplotlib.pyplot as plt\nfrom systole import simulate_rr\nfrom systole.plotting import plot_subspaces\nfrom systole.correction import correct_peaks, correct_rr"
      ]
    },
    {
      "cell_type": "markdown",
      "metadata": {},
      "source": [
        "#############################\n\n"
      ]
    },
    {
      "cell_type": "code",
      "execution_count": null,
      "metadata": {
        "collapsed": false
      },
      "outputs": [],
      "source": [
        "peaks = simulate_rr(as_peaks=True)\npeaks_correction = correct_peaks(peaks)\npeaks_correction"
      ]
    },
    {
      "cell_type": "markdown",
      "metadata": {},
      "source": [
        "#############################\n\n"
      ]
    },
    {
      "cell_type": "code",
      "execution_count": null,
      "metadata": {
        "collapsed": false
      },
      "outputs": [],
      "source": [
        "rr = simulate_rr()\nrr_correction = correct_rr(rr)"
      ]
    },
    {
      "cell_type": "markdown",
      "metadata": {},
      "source": [
        "References\n----------\n.. [#] Lipponen, J. A., & Tarvainen, M. P. (2019). A robust algorithm for\n  heart rate variability time series artefact correction using novel\n  beat classification. Journal of Medical Engineering & Technology,\n  43(3), 173\u2013181. https://doi.org/10.1080/03091902.2019.1640306\n\n"
      ]
    }
  ],
  "metadata": {
    "kernelspec": {
      "display_name": "Python 3",
      "language": "python",
      "name": "python3"
    },
    "language_info": {
      "codemirror_mode": {
        "name": "ipython",
        "version": 3
      },
      "file_extension": ".py",
      "mimetype": "text/x-python",
      "name": "python",
      "nbconvert_exporter": "python",
      "pygments_lexer": "ipython3",
      "version": "3.7.6"
    }
  },
  "nbformat": 4,
  "nbformat_minor": 0
}