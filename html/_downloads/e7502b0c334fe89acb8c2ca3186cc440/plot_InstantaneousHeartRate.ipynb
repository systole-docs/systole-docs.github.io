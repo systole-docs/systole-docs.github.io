{
  "cells": [
    {
      "cell_type": "code",
      "execution_count": null,
      "metadata": {
        "collapsed": false
      },
      "outputs": [],
      "source": [
        "%matplotlib inline"
      ]
    },
    {
      "cell_type": "markdown",
      "metadata": {},
      "source": [
        "\nInstantaneous Heart Rate\n========================\n\nThis example show how to record PPG signals using the `Nonin 3012LP\nXpod USB pulse oximeter <https://www.nonin.com/products/xpod/>`_ and the `Nonin\n8000SM 'soft-clip' fingertip sensors <https://www.nonin.com/products/8000s/>`_.\nPeaks are automatically labelled online and the instantaneous heart rate is\nplotted.\n"
      ]
    },
    {
      "cell_type": "code",
      "execution_count": null,
      "metadata": {
        "collapsed": false
      },
      "outputs": [],
      "source": [
        "# Author: Nicolas Legrand <nicolas.legrand@cfin.au.dk>\n# Licence: GPL v3\n\nfrom systole import serialSim\nfrom systole.utils import heart_rate\nfrom systole.recording import Oximeter\nimport matplotlib.pyplot as plt\nimport numpy as np"
      ]
    },
    {
      "cell_type": "markdown",
      "metadata": {},
      "source": [
        "Recording\n---------\nFor the demonstration purpose, here we simulate data acquisition through\nthe pulse oximeter using pre-recorded signal.\n\n"
      ]
    },
    {
      "cell_type": "code",
      "execution_count": null,
      "metadata": {
        "collapsed": false
      },
      "outputs": [],
      "source": [
        "ser = serialSim()"
      ]
    },
    {
      "cell_type": "markdown",
      "metadata": {},
      "source": [
        "If you want to enable online data acquisition, you should uncomment the\nfollowing lines and provide the reference of the COM port where the pulse\noximeter is plugged in.\n\n"
      ]
    },
    {
      "cell_type": "markdown",
      "metadata": {},
      "source": [
        ".. code-block:: python\n\n  import serial\n  ser = serial.Serial('COM4')  # Change this value according to your setup\n\n"
      ]
    },
    {
      "cell_type": "code",
      "execution_count": null,
      "metadata": {
        "collapsed": false
      },
      "outputs": [],
      "source": [
        "# Create an Oxymeter instance, initialize recording and record for 10 seconds\noxi = Oximeter(serial=ser, sfreq=75).setup()\noxi.read(30)"
      ]
    },
    {
      "cell_type": "markdown",
      "metadata": {},
      "source": [
        "Plotting\n--------\n\n"
      ]
    },
    {
      "cell_type": "code",
      "execution_count": null,
      "metadata": {
        "collapsed": false
      },
      "outputs": [],
      "source": [
        "fig, ax = plt.subplots(3, 1, figsize=(13, 8), sharex=True)\noxi.plot_recording(ax=ax[0])\n\nax[1].plot(oxi.times, oxi.peaks, 'k')\nax[1].set_title('Peaks vector', fontweight='bold')\nax[1].set_xlabel('Time (s)')\nax[1].set_ylabel('Peak\\n detection')\n\n\nhr, time = heart_rate(oxi.peaks, sfreq=75, unit='rr', kind='cubic')\nax[2].plot(time, hr, label='Interpolated HR', linestyle='--', color='gray')\nax[2].plot(np.array(oxi.times)[np.where(oxi.peaks)[0]],\n           hr[np.where(oxi.peaks)[0]], 'ro', label='Instantaneous HR')\nax[2].set_xlabel('Time (s)')\nax[2].set_title('Instantaneous Heart Rate', fontweight='bold')\nax[2].set_ylabel('RR intervals (ms)')\n\nplt.tight_layout()"
      ]
    }
  ],
  "metadata": {
    "kernelspec": {
      "display_name": "Python 3",
      "language": "python",
      "name": "python3"
    },
    "language_info": {
      "codemirror_mode": {
        "name": "ipython",
        "version": 3
      },
      "file_extension": ".py",
      "mimetype": "text/x-python",
      "name": "python",
      "nbconvert_exporter": "python",
      "pygments_lexer": "ipython3",
      "version": "3.7.3"
    }
  },
  "nbformat": 4,
  "nbformat_minor": 0
}